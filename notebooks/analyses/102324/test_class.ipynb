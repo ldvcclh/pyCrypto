{
 "cells": [
  {
   "cell_type": "code",
   "execution_count": null,
   "id": "0",
   "metadata": {},
   "outputs": [],
   "source": [
    "import sys\n",
    "import os\n",
    "\n",
    "sys.path.append(os.path.abspath('../../src'))"
   ]
  },
  {
   "cell_type": "code",
   "execution_count": null,
   "id": "1",
   "metadata": {},
   "outputs": [],
   "source": [
    "from data_cleaner import DataCleaner\n",
    "datapath = \"../../../data/\"\n",
    "datafile = datapath+'binance_data_BTCFDUSD_20240528183200.parquet'\n",
    "cleaner = DataCleaner(datafile, datapath, print_info=True)\n",
    "cleaned_data = cleaner.clean_data()"
   ]
  },
  {
   "cell_type": "code",
   "execution_count": null,
   "id": "2",
   "metadata": {},
   "outputs": [],
   "source": [
    "from create_target import TargetCalculator"
   ]
  },
  {
   "cell_type": "code",
   "execution_count": null,
   "id": "3",
   "metadata": {},
   "outputs": [],
   "source": [
    "datafile = datapath+'data_cleaned.parquet'\n",
    "calculator = TargetCalculator(datafile,datapath, print_info=True)\n",
    "calculator.calculate_pct_change_target(time=120)\n",
    "calculator.save_data('data_cleaned_target.parquet')"
   ]
  },
  {
   "cell_type": "code",
   "execution_count": null,
   "id": "4",
   "metadata": {},
   "outputs": [],
   "source": [
    "from model_gen import ModelGenerator\n",
    "datafile = datapath+'data_cleaned_target.parquet'\n",
    "generator = ModelGenerator(datafile, datapath, print_info=True)\n",
    "generator.create_train_test_split(test_size=0.3, shuffle=False)\n",
    "\n",
    "# Train Logistic Regression\n",
    "log_reg_model = generator.train_logistic_regression()\n",
    "generator.evaluate_model(log_reg_model, generator.X_test, generator.y_test)\n",
    "generator.save_model(log_reg_model, datapath+'log_reg_model.pkl')"
   ]
  },
  {
   "cell_type": "code",
   "execution_count": null,
   "id": "5",
   "metadata": {},
   "outputs": [],
   "source": [
    "# Apply PCA and train Random Forest\n",
    "pca = generator.apply_pca(n_components=20)\n",
    "rf_model = generator.train_random_forest(n_estimators=100, random_state=42, pca = True)\n",
    "generator.evaluate_model(rf_model, generator.X_test_pca, generator.y_test)"
   ]
  },
  {
   "cell_type": "code",
   "execution_count": null,
   "id": "6",
   "metadata": {},
   "outputs": [],
   "source": [
    "generator.save_model(rf_model, datapath+'log_reg_model.pkl')"
   ]
  },
  {
   "cell_type": "code",
   "execution_count": null,
   "id": "7",
   "metadata": {},
   "outputs": [],
   "source": [
    "y_pred_prob = log_reg_model.predict_proba(generator.X_test)"
   ]
  },
  {
   "cell_type": "code",
   "execution_count": null,
   "id": "8",
   "metadata": {},
   "outputs": [],
   "source": [
    "from visu import DataVisualization\n",
    "vis = DataVisualization(log_reg_model, generator.X_test, generator.y_test, y_pred_prob)\n",
    "\n",
    "# Maintenant, vous pouvez utiliser les méthodes de visualisation\n",
    "vis.plot_roc_curve()"
   ]
  },
  {
   "cell_type": "code",
   "execution_count": null,
   "id": "9",
   "metadata": {},
   "outputs": [],
   "source": [
    "vis.plot_probability_density()"
   ]
  },
  {
   "cell_type": "code",
   "execution_count": null,
   "id": "10",
   "metadata": {},
   "outputs": [],
   "source": [
    "vis.plot_calibration_curve()"
   ]
  },
  {
   "cell_type": "code",
   "execution_count": null,
   "id": "11",
   "metadata": {},
   "outputs": [],
   "source": [
    "y_pred = log_reg_model.predict(generator.X_test)\n",
    "from sklearn.metrics import confusion_matrix\n",
    "conf_matrix = confusion_matrix(generator.y_test, y_pred)\n",
    "\n",
    "# Noms des classes (dans ce cas, classification binaire 0 et 1)\n",
    "class_names = [0, 1]  # ou ['Negative', 'Positive'] par exemple\n",
    "vis.plot_confusion_matrix(conf_matrix, class_names)"
   ]
  },
  {
   "cell_type": "code",
   "execution_count": null,
   "id": "12",
   "metadata": {},
   "outputs": [],
   "source": []
  }
 ],
 "metadata": {
  "kernelspec": {
   "display_name": ".venv",
   "language": "python",
   "name": ".venv"
  },
  "language_info": {
   "codemirror_mode": {
    "name": "ipython",
    "version": 2
   },
   "file_extension": ".py",
   "mimetype": "text/x-python",
   "name": "python",
   "nbconvert_exporter": "python",
   "pygments_lexer": "ipython2",
   "version": "2.7.6"
  }
 },
 "nbformat": 4,
 "nbformat_minor": 5
}
