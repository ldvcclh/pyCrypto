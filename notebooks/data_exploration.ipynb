{
 "cells": [
  {
   "cell_type": "code",
   "execution_count": null,
   "id": "0",
   "metadata": {},
   "outputs": [],
   "source": [
    "import pandas as pd \n",
    "import numpy as np"
   ]
  },
  {
   "cell_type": "code",
   "execution_count": null,
   "id": "1",
   "metadata": {},
   "outputs": [],
   "source": [
    "# Read data\n",
    "df = pd.read_parquet('../data/binance_data_BTCFDUSD_20240528183200.parquet',engine='pyarrow')"
   ]
  },
  {
   "cell_type": "code",
   "execution_count": null,
   "id": "2",
   "metadata": {},
   "outputs": [],
   "source": [
    "df.info()"
   ]
  },
  {
   "cell_type": "code",
   "execution_count": null,
   "id": "3",
   "metadata": {},
   "outputs": [],
   "source": [
    "# Datetime index\n",
    "df.index = pd.to_datetime(df.index)"
   ]
  },
  {
   "cell_type": "markdown",
   "id": "4",
   "metadata": {},
   "source": [
    "## Price plots\n",
    "\n",
    "Problem of memory with plotly"
   ]
  },
  {
   "cell_type": "code",
   "execution_count": null,
   "id": "5",
   "metadata": {},
   "outputs": [],
   "source": [
    "import plotly.graph_objects as go \n",
    "from datetime import datetime"
   ]
  },
  {
   "cell_type": "code",
   "execution_count": null,
   "id": "6",
   "metadata": {},
   "outputs": [],
   "source": [
    "# Candlestick\n",
    "#fig = go.Figure(data=[go.Candlestick(x=df.index,\n",
    "#                                     open=df['Open'],\n",
    "#                                     high=df['High'],\n",
    "#                                     low=df['Low'],\n",
    "#                                     close=df['Close'])])\n",
    "#\n",
    "#fig.show()\n"
   ]
  },
  {
   "cell_type": "code",
   "execution_count": null,
   "id": "7",
   "metadata": {},
   "outputs": [],
   "source": [
    "# Percentage change\n",
    "df_pct_change_1s = df.pct_change(periods=1).shift(periods=-1)      # 1 second\n",
    "df_pct_change_10s = df.pct_change(periods=10).shift(periods=-1)    # 10 seconds\n",
    "df_pct_change_1min = df.pct_change(periods=60).shift(periods=-1)   # 1 minute\n",
    "df_pct_change_1h = df.pct_change(periods=3600).shift(periods=-1)   # 1 hour"
   ]
  },
  {
   "cell_type": "code",
   "execution_count": null,
   "id": "8",
   "metadata": {},
   "outputs": [],
   "source": [
    "df_pct_change_10s"
   ]
  },
  {
   "cell_type": "code",
   "execution_count": null,
   "id": "9",
   "metadata": {},
   "outputs": [],
   "source": [
    "# Plot \"Close\" percentage change\n",
    "import matplotlib.pyplot as plt\n",
    "\n",
    "fig = plt.figure(figsize=(10, 6))\n",
    "ax = plt.subplot(111)\n",
    "ax.plot(df.index, df_pct_change_1h['Close'], ls=':',label='1 hour')\n",
    "ax.plot(df.index, df_pct_change_1min['Close'], ls='--',label='1 min')\n",
    "ax.plot(df.index, df_pct_change_10s['Close'], ls='-.',label='10 sec')\n",
    "ax.plot(df.index, df_pct_change_1s['Close'], ls='-',label='1 sec')\n",
    "ax.set_xlabel('Date & Hour')\n",
    "ax.set_ylabel('Change percentage')\n",
    "ax.legend()\n",
    "ax.grid(True)\n",
    "fig.tight_layout()"
   ]
  },
  {
   "cell_type": "code",
   "execution_count": null,
   "id": "10",
   "metadata": {},
   "outputs": [],
   "source": [
    "# Moving average\n",
    "df['SMA_1hour'] = df['Close'].rolling(window=3600, min_periods=1).mean()\n",
    "df['SMA_1day'] = df['Close'].rolling(window=86400, min_periods=1).mean()\n",
    "df['SMA_10day'] = df['Close'].rolling(window=86400 * 10, min_periods=1).mean()"
   ]
  },
  {
   "cell_type": "code",
   "execution_count": null,
   "id": "11",
   "metadata": {},
   "outputs": [],
   "source": [
    "fig = plt.figure(figsize=(10, 6))\n",
    "ax = plt.subplot(111)\n",
    "ax.plot(df.index, df['SMA_1day'], ls=':',label='1 day')\n",
    "ax.plot(df.index, df['SMA_10day'], ls='--',label='10 day')\n",
    "ax.plot(df.index, df['SMA_1hour'], ls='-',label='1 hour')\n",
    "ax.set_xlabel('Date & Hour')\n",
    "ax.set_ylabel('Moving average')\n",
    "ax.legend()\n",
    "ax.grid(True)\n",
    "fig.tight_layout()"
   ]
  },
  {
   "cell_type": "markdown",
   "id": "12",
   "metadata": {},
   "source": [
    "## Correlation analyses"
   ]
  },
  {
   "cell_type": "code",
   "execution_count": null,
   "id": "13",
   "metadata": {},
   "outputs": [],
   "source": [
    "# Correlation matrix (Pearson)\n",
    "corr_matrix = df.corr()"
   ]
  },
  {
   "cell_type": "code",
   "execution_count": null,
   "id": "14",
   "metadata": {},
   "outputs": [],
   "source": [
    "# Plot heatmap\n",
    "import seaborn as sns\n",
    "import matplotlib.pyplot as plt\n",
    "\n",
    "plt.figure(figsize=(15,12))\n",
    "sns.heatmap(corr_matrix, annot=False,cmap='coolwarm')\n",
    "plt.show()"
   ]
  },
  {
   "cell_type": "code",
   "execution_count": null,
   "id": "15",
   "metadata": {},
   "outputs": [],
   "source": [
    "# Separate highly and non highly correlated variables\n",
    "# Create mask for both condition\n",
    "mask_nhc  = (corr_matrix > -0.5) & (corr_matrix < 0.5) #hc : highly correlated\n",
    "mask_hc = ~mask_nhc"
   ]
  },
  {
   "cell_type": "code",
   "execution_count": null,
   "id": "16",
   "metadata": {},
   "outputs": [],
   "source": [
    "# Correlation Matrix with the right conditons\n",
    "corr_hc  = corr_matrix[mask_hc]\n",
    "corr_nhc = corr_matrix[mask_nhc]"
   ]
  },
  {
   "cell_type": "code",
   "execution_count": null,
   "id": "17",
   "metadata": {},
   "outputs": [],
   "source": [
    "corr_hc['Close']"
   ]
  },
  {
   "cell_type": "code",
   "execution_count": null,
   "id": "18",
   "metadata": {},
   "outputs": [],
   "source": [
    "corr_nhc['Close']"
   ]
  },
  {
   "cell_type": "code",
   "execution_count": null,
   "id": "19",
   "metadata": {},
   "outputs": [],
   "source": [
    "duplicate_indexes = df.index[df.index.duplicated()]\n",
    "print(f\"Duplicated indexes : {duplicate_indexes}\")\n",
    "df = df[~df.index.duplicated(keep='first')]"
   ]
  },
  {
   "cell_type": "code",
   "execution_count": null,
   "id": "20",
   "metadata": {},
   "outputs": [],
   "source": [
    "ask_bid_columns = [col for col in df.columns if 'bid' in col or 'ask' in col]"
   ]
  },
  {
   "cell_type": "code",
   "execution_count": null,
   "id": "21",
   "metadata": {},
   "outputs": [],
   "source": [
    "import matplotlib.pyplot as plt\n",
    "import seaborn as sns\n",
    "\n",
    "for col in ask_bid_columns:\n",
    "    print(col)\n",
    "    plt.figure(figsize=(8,6))\n",
    "    sns.scatterplot(data=df,x=str(col), y='Close')#, hue=col, data=df)\n",
    "    plt.xlabel(col)\n",
    "    plt.ylabel('Close')\n",
    "    plt.show()"
   ]
  },
  {
   "cell_type": "code",
   "execution_count": null,
   "id": "22",
   "metadata": {},
   "outputs": [],
   "source": [
    "df_pct_change_10s"
   ]
  },
  {
   "cell_type": "code",
   "execution_count": null,
   "id": "23",
   "metadata": {},
   "outputs": [],
   "source": []
  }
 ],
 "metadata": {
  "kernelspec": {
   "display_name": ".venv",
   "language": "python",
   "name": ".venv"
  },
  "language_info": {
   "codemirror_mode": {
    "name": "ipython",
    "version": 2
   },
   "file_extension": ".py",
   "mimetype": "text/x-python",
   "name": "python",
   "nbconvert_exporter": "python",
   "pygments_lexer": "ipython2",
   "version": "2.7.6"
  }
 },
 "nbformat": 4,
 "nbformat_minor": 5
}
