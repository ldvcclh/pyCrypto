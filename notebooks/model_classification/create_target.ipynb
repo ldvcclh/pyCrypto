{
 "cells": [
  {
   "cell_type": "code",
   "execution_count": null,
   "id": "0",
   "metadata": {},
   "outputs": [],
   "source": [
    "import pandas as pd\n",
    "import numpy as np"
   ]
  },
  {
   "cell_type": "code",
   "execution_count": null,
   "id": "1",
   "metadata": {},
   "outputs": [],
   "source": [
    "# Read data\n",
    "df = pd.read_parquet('../../data/data_cleaned.parquet',engine='pyarrow')"
   ]
  },
  {
   "cell_type": "code",
   "execution_count": null,
   "id": "2",
   "metadata": {},
   "outputs": [],
   "source": [
    "# Check duplicate indexes\n",
    "duplicate_indexes = df.index[df.index.duplicated()]\n",
    "print(f\"Duplicated indexes : {duplicate_indexes}\")"
   ]
  },
  {
   "cell_type": "code",
   "execution_count": null,
   "id": "3",
   "metadata": {},
   "outputs": [],
   "source": [
    "# Verify if each second if present\n",
    "all_seconds = pd.date_range(start=df.index.min(),end=df.index.max(),freq='s')\n",
    "missing_indexes = all_seconds.difference(df.index)\n",
    "\n",
    "if len(missing_indexes) ==0:\n",
    "    print(\"Every seconds are present\")\n",
    "else:\n",
    "    print(f\"It misses {len(missing_indexes)} second(s)\")\n",
    "    print(missing_indexes)"
   ]
  },
  {
   "cell_type": "code",
   "execution_count": null,
   "id": "4",
   "metadata": {},
   "outputs": [],
   "source": [
    "#df_pct_change_2min = df.pct_change(periods=120).shift(periods=-1)   # 2 minute\n",
    "df['pct_change_close'] = df['Close'].pct_change(periods=120).shift(periods=-120)\n",
    "df.tail()"
   ]
  },
  {
   "cell_type": "code",
   "execution_count": null,
   "id": "5",
   "metadata": {},
   "outputs": [],
   "source": [
    "# Plot \"Close\" percentage change\n",
    "import matplotlib.pyplot as plt\n",
    "\n",
    "fig = plt.figure(figsize=(10, 6))\n",
    "ax = plt.subplot(111)\n",
    "ax.plot(df.index, df['pct_change_close'], ls='--',label='2 min')\n",
    "ax.set_xlabel('Date & Hour')\n",
    "ax.set_ylabel('Change percentage')\n",
    "ax.legend()\n",
    "ax.grid(True)\n",
    "fig.tight_layout()"
   ]
  },
  {
   "cell_type": "code",
   "execution_count": null,
   "id": "6",
   "metadata": {},
   "outputs": [],
   "source": [
    "df['target'] = (df['pct_change_close'] > 0).astype(int) #1 if up, 0 if down"
   ]
  },
  {
   "cell_type": "code",
   "execution_count": null,
   "id": "7",
   "metadata": {},
   "outputs": [],
   "source": [
    "# Save data\n",
    "df.to_parquet('../../data/data_cleaned_target.parquet', engine='pyarrow')"
   ]
  },
  {
   "cell_type": "code",
   "execution_count": null,
   "id": "8",
   "metadata": {},
   "outputs": [],
   "source": []
  }
 ],
 "metadata": {
  "kernelspec": {
   "display_name": ".venv",
   "language": "python",
   "name": ".venv"
  },
  "language_info": {
   "codemirror_mode": {
    "name": "ipython",
    "version": 2
   },
   "file_extension": ".py",
   "mimetype": "text/x-python",
   "name": "python",
   "nbconvert_exporter": "python",
   "pygments_lexer": "ipython2",
   "version": "2.7.6"
  }
 },
 "nbformat": 4,
 "nbformat_minor": 5
}
