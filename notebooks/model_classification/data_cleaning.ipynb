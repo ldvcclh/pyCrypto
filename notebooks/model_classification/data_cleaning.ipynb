{
 "cells": [
  {
   "cell_type": "code",
   "execution_count": null,
   "id": "0",
   "metadata": {},
   "outputs": [],
   "source": [
    "import numpy as np\n",
    "import pandas as pd "
   ]
  },
  {
   "cell_type": "code",
   "execution_count": null,
   "id": "1",
   "metadata": {},
   "outputs": [],
   "source": [
    "# Read data\n",
    "df = pd.read_parquet('../../data/binance_data_BTCFDUSD_20240528183200.parquet',engine='pyarrow')"
   ]
  },
  {
   "cell_type": "code",
   "execution_count": null,
   "id": "2",
   "metadata": {},
   "outputs": [],
   "source": [
    "# Check duplicate indexes\n",
    "duplicate_indexes = df.index[df.index.duplicated()]\n",
    "print(f\"Duplicated indexes : {duplicate_indexes}\")\n",
    "if len(duplicate_indexes)>0:\n",
    "    df = df[~df.index.duplicated(keep='last')]"
   ]
  },
  {
   "cell_type": "code",
   "execution_count": null,
   "id": "3",
   "metadata": {},
   "outputs": [],
   "source": [
    "# Verify NaN in DataFrame\n",
    "if df.isnull().values.any():\n",
    "    print(\"NaN value in the DataFrame.\")\n",
    "    # Print lines with NaN\n",
    "    nan_rows = df[df.isnull().any(axis=1)]\n",
    "    #print(f\"Lines with NaN : \\n{nan_rows}\")\n",
    "    # Number of NaN by column\n",
    "    nan_count = df.isnull().sum()\n",
    "    print(f\"Number of Nan by column : \\n{nan_count}\")\n",
    "else:\n",
    "    print(\"No NaN value in the DataFrame.\")"
   ]
  },
  {
   "cell_type": "code",
   "execution_count": null,
   "id": "4",
   "metadata": {},
   "outputs": [],
   "source": [
    "# Datetime index\n",
    "df.index = pd.to_datetime(df.index)"
   ]
  },
  {
   "cell_type": "code",
   "execution_count": null,
   "id": "5",
   "metadata": {},
   "outputs": [],
   "source": [
    "# Verify if each second if present\n",
    "all_seconds = pd.date_range(start=df.index.min(),end=df.index.max(),freq='s')\n",
    "missing_indexes = all_seconds.difference(df.index)\n",
    "\n",
    "if len(missing_indexes) ==0:\n",
    "    print(\"Every seconds are present\")\n",
    "else:\n",
    "    print(f\"It misses {len(missing_indexes)} second(s)\")\n",
    "    print(missing_indexes)"
   ]
  },
  {
   "cell_type": "code",
   "execution_count": null,
   "id": "6",
   "metadata": {},
   "outputs": [],
   "source": [
    "# Include the missing seconds and copy the data from the previous seconds\n",
    "df_full = df.reindex(all_seconds)\n",
    "df_full.fillna(method='ffill',inplace=True)\n",
    "\n",
    "#df_marked = df.copy()\n",
    "#df_marked.fillna(-9999, inplace=True)\n",
    "# Row with only NaN\n",
    "#new_rows = df_full[df_full.isnull().all(axis=1)]\n",
    "#print(new_rows)\n",
    "# Copy data only for the row with only NaN\n",
    "#df_full.loc[new_rows.index] = df_full.loc[new_rows.index].fillna(method='ffill')"
   ]
  },
  {
   "cell_type": "code",
   "execution_count": null,
   "id": "7",
   "metadata": {},
   "outputs": [],
   "source": [
    "# Verify NaN in DataFrame\n",
    "if df_full.isnull().values.any():\n",
    "    print(\"NaN value in the DataFrame.\")\n",
    "    # Print lines with NaN\n",
    "    nan_rows = df_full[df_full.isnull().any(axis=1)]\n",
    "    print(f\"Lines with NaN : \\n{nan_rows}\")\n",
    "    # Number of NaN by column\n",
    "    nan_count = df_full.isnull().sum()\n",
    "    print(f\"Number of Nan by colomn : \\n{nan_count}\")\n",
    "else:\n",
    "    print(\"No NaN value in the DataFrame.\")"
   ]
  },
  {
   "cell_type": "code",
   "execution_count": null,
   "id": "8",
   "metadata": {},
   "outputs": [],
   "source": [
    "df_full.to_parquet('../../data/data_cleaned.parquet', engine='pyarrow')"
   ]
  },
  {
   "cell_type": "code",
   "execution_count": null,
   "id": "9",
   "metadata": {},
   "outputs": [],
   "source": []
  }
 ],
 "metadata": {
  "kernelspec": {
   "display_name": ".venv",
   "language": "python",
   "name": ".venv"
  },
  "language_info": {
   "codemirror_mode": {
    "name": "ipython",
    "version": 2
   },
   "file_extension": ".py",
   "mimetype": "text/x-python",
   "name": "python",
   "nbconvert_exporter": "python",
   "pygments_lexer": "ipython2",
   "version": "2.7.6"
  }
 },
 "nbformat": 4,
 "nbformat_minor": 5
}
