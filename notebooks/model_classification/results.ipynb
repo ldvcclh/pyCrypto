{
 "cells": [
  {
   "cell_type": "code",
   "execution_count": null,
   "id": "0",
   "metadata": {},
   "outputs": [],
   "source": [
    "import pandas as pd\n",
    "import pickle"
   ]
  },
  {
   "cell_type": "code",
   "execution_count": null,
   "id": "1",
   "metadata": {},
   "outputs": [],
   "source": [
    "# Charger le modèle enregistré\n",
    "with open('regression_model.pkl', 'rb') as f:\n",
    "    model = pickle.load(f)"
   ]
  },
  {
   "cell_type": "code",
   "execution_count": null,
   "id": "2",
   "metadata": {},
   "outputs": [],
   "source": [
    "import joblib\n",
    "X_train = joblib.load('X_train.pkl')\n",
    "X_test = joblib.load('X_test.pkl')\n",
    "y_train = joblib.load('y_train.pkl')\n",
    "y_test = joblib.load('y_test.pkl')"
   ]
  },
  {
   "cell_type": "code",
   "execution_count": null,
   "id": "3",
   "metadata": {},
   "outputs": [],
   "source": [
    "X_train['Close'].iloc[-1]"
   ]
  },
  {
   "cell_type": "code",
   "execution_count": null,
   "id": "4",
   "metadata": {},
   "outputs": [],
   "source": [
    "# Prediction with test data\n",
    "y_pred = model.predict(X_test)\n",
    "\n",
    "# Parameters\n",
    "capital = X_train['Close'].iloc[-1]  \n",
    "position = 0  \n",
    "trades = [] \n",
    "\n",
    "for i in range(len(X_test)):\n",
    "    if y_pred[i] == 1:  # Prediction up\n",
    "        if position == 0:  # Buy if not in position\n",
    "            position = capital / X_test.iloc[i]['Close']\n",
    "            capital = 0\n",
    "    elif y_pred[i] == 0:  # Prediction low\n",
    "        if position > 0:  # Sell if in position\n",
    "            capital = position * X_test.iloc[i]['Close']\n",
    "            position = 0\n",
    "            trades.append(capital)  # Save\n",
    "# Results \n",
    "gains_moyens = sum(trades) / len(trades) if trades else 0\n",
    "print(f'Capital final: {capital}')\n",
    "print(f'Nombre de trades: {len(trades)}')\n",
    "print(f'Gain moyen par trade: {gains_moyens}')"
   ]
  },
  {
   "cell_type": "code",
   "execution_count": null,
   "id": "5",
   "metadata": {},
   "outputs": [],
   "source": []
  }
 ],
 "metadata": {
  "kernelspec": {
   "display_name": ".venv",
   "language": "python",
   "name": ".venv"
  },
  "language_info": {
   "codemirror_mode": {
    "name": "ipython",
    "version": 2
   },
   "file_extension": ".py",
   "mimetype": "text/x-python",
   "name": "python",
   "nbconvert_exporter": "python",
   "pygments_lexer": "ipython2",
   "version": "2.7.6"
  }
 },
 "nbformat": 4,
 "nbformat_minor": 5
}
