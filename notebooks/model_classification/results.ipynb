{
 "cells": [
  {
   "cell_type": "code",
   "execution_count": null,
   "id": "0",
   "metadata": {},
   "outputs": [],
   "source": [
    "import pandas as pd\n",
    "import pickle"
   ]
  },
  {
   "cell_type": "code",
   "execution_count": null,
   "id": "1",
   "metadata": {},
   "outputs": [],
   "source": [
    "import joblib\n",
    "reg_model = joblib.load('../../data/regression_model.pkl')\n",
    "rf_model = joblib.load('../../data/rf_model.pkl')\n",
    "X_train = joblib.load('../../data/X_train.pkl')\n",
    "X_test = joblib.load('../../data/X_test.pkl')\n",
    "y_train = joblib.load('../../data/y_train.pkl')\n",
    "y_test = joblib.load('../../data/y_test.pkl')\n",
    "X_train_pca = joblib.load('../../data/X_train_pca_20.pkl')\n",
    "X_test_pca = joblib.load('../../data/X_test_pca_20.pkl')"
   ]
  },
  {
   "cell_type": "code",
   "execution_count": null,
   "id": "2",
   "metadata": {},
   "outputs": [],
   "source": [
    "X_train['Close'].iloc[-1]"
   ]
  },
  {
   "cell_type": "code",
   "execution_count": null,
   "id": "3",
   "metadata": {},
   "outputs": [],
   "source": [
    "# Prediction with test data using regression model\n",
    "y_pred = reg_model.predict(X_test)\n",
    "\n",
    "# Parameters\n",
    "capital = X_train['Close'].iloc[-1]  \n",
    "position = 0  \n",
    "trades = [] \n",
    "\n",
    "for i in range(len(X_test)):\n",
    "    if y_pred[i] == 1:  # Prediction up\n",
    "        if position == 0:  # Buy if not in position\n",
    "            position = capital / X_test.iloc[i]['Close']\n",
    "            capital = 0\n",
    "    elif y_pred[i] == 0:  # Prediction low\n",
    "        if position > 0:  # Sell if in position\n",
    "            capital = position * X_test.iloc[i]['Close']\n",
    "            position = 0\n",
    "            trades.append(capital)  # Save\n",
    "# Results \n",
    "gains_moyens = sum(trades) / len(trades) if trades else 0\n",
    "print(f'Return: {capital}')\n",
    "print(f'Trades number: {len(trades)}')\n",
    "print(f'Average win per trade: {gains_moyens}')"
   ]
  },
  {
   "cell_type": "code",
   "execution_count": null,
   "id": "4",
   "metadata": {},
   "outputs": [],
   "source": [
    "# Prediction with test data using regression model\n",
    "y_pred = rf_model.predict(X_test_pca)\n",
    "\n",
    "# Parameters\n",
    "capital = X_train['Close'].iloc[-1]  \n",
    "position = 0  \n",
    "trades = [] \n",
    "\n",
    "for i in range(len(X_test)):\n",
    "    if y_pred[i] == 1:  # Prediction up\n",
    "        if position == 0:  # Buy if not in position\n",
    "            position = capital / X_test.iloc[i]['Close']\n",
    "            capital = 0\n",
    "    elif y_pred[i] == 0:  # Prediction low\n",
    "        if position > 0:  # Sell if in position\n",
    "            capital = position * X_test.iloc[i]['Close']\n",
    "            position = 0\n",
    "            trades.append(capital)  # Save\n",
    "# Results \n",
    "gains_moyens = sum(trades) / len(trades) if trades else 0\n",
    "print(f'Return: {capital}')\n",
    "print(f'Trades number: {len(trades)}')\n",
    "print(f'Average win per trade: {gains_moyens}')"
   ]
  },
  {
   "cell_type": "code",
   "execution_count": null,
   "id": "5",
   "metadata": {},
   "outputs": [],
   "source": []
  }
 ],
 "metadata": {
  "kernelspec": {
   "display_name": ".venv",
   "language": "python",
   "name": ".venv"
  },
  "language_info": {
   "codemirror_mode": {
    "name": "ipython",
    "version": 2
   },
   "file_extension": ".py",
   "mimetype": "text/x-python",
   "name": "python",
   "nbconvert_exporter": "python",
   "pygments_lexer": "ipython2",
   "version": "2.7.6"
  }
 },
 "nbformat": 4,
 "nbformat_minor": 5
}
